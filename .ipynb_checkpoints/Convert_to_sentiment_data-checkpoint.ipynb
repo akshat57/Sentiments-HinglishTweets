{
 "cells": [
  {
   "cell_type": "code",
   "execution_count": 47,
   "metadata": {},
   "outputs": [],
   "source": [
    "import pickle"
   ]
  },
  {
   "cell_type": "code",
   "execution_count": 53,
   "metadata": {},
   "outputs": [],
   "source": [
    "def save_data(filename, data):\n",
    "    #Storing data with labels\n",
    "    a_file = open(filename, \"wb\")\n",
    "    pickle.dump(data, a_file)\n",
    "    a_file.close()\n",
    "    \n",
    "\n",
    "def load_data(filename):\n",
    "    a_file = open(filename, \"rb\")\n",
    "    output = pickle.load(a_file)\n",
    "    a_file.close()\n",
    "    return output"
   ]
  },
  {
   "cell_type": "code",
   "execution_count": 39,
   "metadata": {},
   "outputs": [],
   "source": []
  },
  {
   "cell_type": "code",
   "execution_count": 49,
   "metadata": {},
   "outputs": [],
   "source": [
    "f = open('train_14k_split_conll.txt', 'r')\n",
    "sentiment_dataset = []\n",
    "\n",
    "start = False\n",
    "for i, line in enumerate(f):\n",
    "    line = line.split('\\t')\n",
    "    \n",
    "    if len(line) == 3:\n",
    "        start = True\n",
    "        tweet = ''\n",
    "        tweet_id = int(line[1])\n",
    "        label = line[2][:-1]\n",
    "    elif len(line) == 1:\n",
    "        start = False\n",
    "        tweet = tweet[:-1]\n",
    "        sentiment_dataset.append((tweet_id, tweet, label))\n",
    "    \n",
    "    if start and len(line) != 3:\n",
    "        tweet += line[0] + ' '"
   ]
  },
  {
   "cell_type": "code",
   "execution_count": 50,
   "metadata": {},
   "outputs": [],
   "source": [
    "save_data('sentiment_data_train.pkl', sentiment_dataset)"
   ]
  },
  {
   "cell_type": "code",
   "execution_count": 54,
   "metadata": {},
   "outputs": [],
   "source": [
    "data = load_data('sentiment_data_train.pkl')"
   ]
  },
  {
   "cell_type": "code",
   "execution_count": null,
   "metadata": {},
   "outputs": [],
   "source": []
  }
 ],
 "metadata": {
  "kernelspec": {
   "display_name": "Python 3",
   "language": "python",
   "name": "python3"
  },
  "language_info": {
   "codemirror_mode": {
    "name": "ipython",
    "version": 3
   },
   "file_extension": ".py",
   "mimetype": "text/x-python",
   "name": "python",
   "nbconvert_exporter": "python",
   "pygments_lexer": "ipython3",
   "version": "3.6.5"
  }
 },
 "nbformat": 4,
 "nbformat_minor": 2
}
